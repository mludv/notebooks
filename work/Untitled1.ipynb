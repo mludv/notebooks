{
 "cells": [
  {
   "cell_type": "markdown",
   "metadata": {},
   "source": [
    "# Modeling Nonlinear Electrical Circuits\n",
    "\n",
    "We consider a classical electromagnetical model in two variants:\n",
    "\n",
    "$$\n",
    "\\begin{cases}\n",
    "\\dot{x} &= y \\\\\n",
    "\\dot{y} &= -x + y - y^3 \n",
    "\\end{cases}\n",
    "\\qquad\n",
    "\\text{and}\n",
    "\\qquad\n",
    "\\begin{cases}\n",
    "\\dot{x} &= y \\\\\n",
    "\\dot{y} &= -x - y - y^3 \n",
    "\\end{cases}\n",
    "$$"
   ]
  },
  {
   "cell_type": "code",
   "execution_count": null,
   "metadata": {},
   "outputs": [],
   "source": []
  }
 ],
 "metadata": {
  "kernelspec": {
   "display_name": "Python 3",
   "language": "python",
   "name": "python3"
  },
  "language_info": {
   "codemirror_mode": {
    "name": "ipython",
    "version": 3
   },
   "file_extension": ".py",
   "mimetype": "text/x-python",
   "name": "python",
   "nbconvert_exporter": "python",
   "pygments_lexer": "ipython3",
   "version": "3.6.3"
  }
 },
 "nbformat": 4,
 "nbformat_minor": 2
}
